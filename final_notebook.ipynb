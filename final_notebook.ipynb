{
 "cells": [
  {
   "cell_type": "markdown",
   "id": "ea2ea7cd-039f-4fa9-a811-96b6bcd59a38",
   "metadata": {},
   "source": [
    "In this writeup we will be exploring a dataset about recitivism after serving timein prision"
   ]
  },
  {
   "cell_type": "code",
   "execution_count": null,
<<<<<<< HEAD
   "id": "4fae3d5e-a679-426d-b0e2-14d47cff24fc",
   "metadata": {},
   "outputs": [],
=======
   "id": "08d4cc14-bfeb-4d9b-919c-fe77a50d4721",
   "metadata": {},
   "outputs": [],
   "source": []
  },
  {
   "cell_type": "code",
   "execution_count": null,
   "id": "71f8823e-7991-47ab-8ff6-a9335d9124ce",
   "metadata": {},
   "outputs": [],
   "source": [

    "import numpy as np\n",
    "import pandas as pd\n",
    "import matplotlib.pyplot as plt\n",
    "import seaborn as sns\n",
    "from sklearn.model_selection import train_test_split\n",
    "from sklearn.metrics import confusion_matrix\n",
    "from sklearn.tree import DecisionTreeClassifier, export_graphviz, plot_tree\n",
    "from sklearn.model_selection import learning_curve, GridSearchCV\n",
    "from sklearn.model_selection import cross_val_score\n",
    "from sklearn import tree\n",
    "from IPython.display import display, HTML"
   ]
  },
  {
   "cell_type": "code",
   "execution_count": null,
   "id": "256b9766-a9b3-46dc-8e36-cf99bc20c7ac",
   "metadata": {},
   "outputs": [],
>>>>>>> 7fc45aedd0a53c8ac8b2c539f87f44c53a8ded08
   "source": []
  }
 ],
 "metadata": {
  "kernelspec": {
   "display_name": "Python 3 (ipykernel)",
   "language": "python",
   "name": "python3"
  },
  "language_info": {
   "codemirror_mode": {
    "name": "ipython",
    "version": 3
   },
   "file_extension": ".py",
   "mimetype": "text/x-python",
   "name": "python",
   "nbconvert_exporter": "python",
   "pygments_lexer": "ipython3",
   "version": "3.12.4"
  }
 },
 "nbformat": 4,
 "nbformat_minor": 5
}
