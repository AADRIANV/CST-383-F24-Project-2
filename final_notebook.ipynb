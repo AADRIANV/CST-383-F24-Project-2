{
 "cells": [
  {
   "cell_type": "markdown",
   "id": "ea2ea7cd-039f-4fa9-a811-96b6bcd59a38",
   "metadata": {},
   "source": [
    "In this writeup we will be exploring a dataset about recitivism after serving timein prision"
   ]
  },
  {
   "cell_type": "code",
   "execution_count": null,
   "id": "4fae3d5e-a679-426d-b0e2-14d47cff24fc",
   "metadata": {},
   "outputs": [],
   "source": []
  }
 ],
 "metadata": {
  "kernelspec": {
   "display_name": "Python 3 (ipykernel)",
   "language": "python",
   "name": "python3"
  },
  "language_info": {
   "codemirror_mode": {
    "name": "ipython",
    "version": 3
   },
   "file_extension": ".py",
   "mimetype": "text/x-python",
   "name": "python",
   "nbconvert_exporter": "python",
   "pygments_lexer": "ipython3",
   "version": "3.12.4"
  }
 },
 "nbformat": 4,
 "nbformat_minor": 5
}
